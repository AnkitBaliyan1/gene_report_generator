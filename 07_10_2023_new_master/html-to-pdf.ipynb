{
 "cells": [
  {
   "cell_type": "code",
   "execution_count": 2,
   "metadata": {},
   "outputs": [],
   "source": [
    "with open (\"03_output/allout.html\",\"rb\") as file:\n",
    "    html_file = file.read()"
   ]
  },
  {
   "cell_type": "code",
   "execution_count": null,
   "metadata": {},
   "outputs": [],
   "source": []
  },
  {
   "cell_type": "code",
   "execution_count": 3,
   "metadata": {},
   "outputs": [
    {
     "name": "stdout",
     "output_type": "stream",
     "text": [
      "\n",
      "-----\n",
      "\n",
      "WeasyPrint could not import some external libraries. Please carefully follow the installation steps before reporting an issue:\n",
      "https://doc.courtbouillon.org/weasyprint/stable/first_steps.html#installation\n",
      "https://doc.courtbouillon.org/weasyprint/stable/first_steps.html#troubleshooting \n",
      "\n",
      "-----\n",
      "\n"
     ]
    },
    {
     "ename": "OSError",
     "evalue": "cannot load library 'gobject-2.0-0': dlopen(gobject-2.0-0, 0x0002): tried: 'gobject-2.0-0' (no such file), '/System/Volumes/Preboot/Cryptexes/OSgobject-2.0-0' (no such file), '/Users/ankitbaliyan/opt/anaconda3/envs/gene/bin/../lib/gobject-2.0-0' (no such file), '/usr/lib/gobject-2.0-0' (no such file, not in dyld cache), 'gobject-2.0-0' (no such file), '/usr/local/lib/gobject-2.0-0' (no such file), '/usr/lib/gobject-2.0-0' (no such file, not in dyld cache).  Additionally, ctypes.util.find_library() did not manage to locate a library called 'gobject-2.0-0'",
     "output_type": "error",
     "traceback": [
      "\u001b[0;31m---------------------------------------------------------------------------\u001b[0m",
      "\u001b[0;31mOSError\u001b[0m                                   Traceback (most recent call last)",
      "\u001b[1;32m/Users/ankitbaliyan/Documents/GitHub_Projects/Streamlit_apps/gene_report_generator/07_10_2023_new_master/html-to-pdf.ipynb Cell 2\u001b[0m line \u001b[0;36m1\n\u001b[0;32m----> <a href='vscode-notebook-cell:/Users/ankitbaliyan/Documents/GitHub_Projects/Streamlit_apps/gene_report_generator/07_10_2023_new_master/html-to-pdf.ipynb#W1sZmlsZQ%3D%3D?line=0'>1</a>\u001b[0m \u001b[39mfrom\u001b[39;00m \u001b[39mweasyprint\u001b[39;00m \u001b[39mimport\u001b[39;00m HTML\n\u001b[1;32m      <a href='vscode-notebook-cell:/Users/ankitbaliyan/Documents/GitHub_Projects/Streamlit_apps/gene_report_generator/07_10_2023_new_master/html-to-pdf.ipynb#W1sZmlsZQ%3D%3D?line=2'>3</a>\u001b[0m \u001b[39mdef\u001b[39;00m \u001b[39mconvert_html_to_pdf\u001b[39m(html_filepath, pdf_filepath):\n\u001b[1;32m      <a href='vscode-notebook-cell:/Users/ankitbaliyan/Documents/GitHub_Projects/Streamlit_apps/gene_report_generator/07_10_2023_new_master/html-to-pdf.ipynb#W1sZmlsZQ%3D%3D?line=3'>4</a>\u001b[0m     \u001b[39m# Load the HTML file\u001b[39;00m\n\u001b[1;32m      <a href='vscode-notebook-cell:/Users/ankitbaliyan/Documents/GitHub_Projects/Streamlit_apps/gene_report_generator/07_10_2023_new_master/html-to-pdf.ipynb#W1sZmlsZQ%3D%3D?line=4'>5</a>\u001b[0m     html \u001b[39m=\u001b[39m HTML(html_filepath)\n",
      "File \u001b[0;32m~/opt/anaconda3/envs/gene/lib/python3.12/site-packages/weasyprint/__init__.py:387\u001b[0m\n\u001b[1;32m    384\u001b[0m         \u001b[39myield\u001b[39;00m \u001b[39m'\u001b[39m\u001b[39mstring\u001b[39m\u001b[39m'\u001b[39m, string, base_url, \u001b[39mNone\u001b[39;00m\n\u001b[1;32m    386\u001b[0m \u001b[39m# Work around circular imports.\u001b[39;00m\n\u001b[0;32m--> 387\u001b[0m \u001b[39mfrom\u001b[39;00m \u001b[39m.\u001b[39;00m\u001b[39mcss\u001b[39;00m \u001b[39mimport\u001b[39;00m preprocess_stylesheet  \u001b[39m# noqa isort:skip\u001b[39;00m\n\u001b[1;32m    388\u001b[0m \u001b[39mfrom\u001b[39;00m \u001b[39m.\u001b[39;00m\u001b[39mhtml\u001b[39;00m \u001b[39mimport\u001b[39;00m (  \u001b[39m# noqa isort:skip\u001b[39;00m\n\u001b[1;32m    389\u001b[0m     HTML5_UA_COUNTER_STYLE, HTML5_UA_STYLESHEET, HTML5_UA_FORM_STYLESHEET,\n\u001b[1;32m    390\u001b[0m     HTML5_PH_STYLESHEET)\n\u001b[1;32m    391\u001b[0m \u001b[39mfrom\u001b[39;00m \u001b[39m.\u001b[39;00m\u001b[39mdocument\u001b[39;00m \u001b[39mimport\u001b[39;00m Document, Page  \u001b[39m# noqa isort:skip\u001b[39;00m\n",
      "File \u001b[0;32m~/opt/anaconda3/envs/gene/lib/python3.12/site-packages/weasyprint/css/__init__.py:25\u001b[0m\n\u001b[1;32m     23\u001b[0m \u001b[39mfrom\u001b[39;00m \u001b[39m.\u001b[39;00m\u001b[39m.\u001b[39;00m\u001b[39mlogger\u001b[39;00m \u001b[39mimport\u001b[39;00m LOGGER, PROGRESS_LOGGER\n\u001b[1;32m     24\u001b[0m \u001b[39mfrom\u001b[39;00m \u001b[39m.\u001b[39;00m\u001b[39m.\u001b[39;00m\u001b[39murls\u001b[39;00m \u001b[39mimport\u001b[39;00m URLFetchingError, get_url_attribute, url_join\n\u001b[0;32m---> 25\u001b[0m \u001b[39mfrom\u001b[39;00m \u001b[39m.\u001b[39;00m \u001b[39mimport\u001b[39;00m computed_values, counters, media_queries\n\u001b[1;32m     26\u001b[0m \u001b[39mfrom\u001b[39;00m \u001b[39m.\u001b[39;00m\u001b[39mproperties\u001b[39;00m \u001b[39mimport\u001b[39;00m INHERITED, INITIAL_NOT_COMPUTED, INITIAL_VALUES\n\u001b[1;32m     27\u001b[0m \u001b[39mfrom\u001b[39;00m \u001b[39m.\u001b[39;00m\u001b[39mutils\u001b[39;00m \u001b[39mimport\u001b[39;00m get_url, remove_whitespace\n",
      "File \u001b[0;32m~/opt/anaconda3/envs/gene/lib/python3.12/site-packages/weasyprint/css/computed_values.py:11\u001b[0m\n\u001b[1;32m      8\u001b[0m \u001b[39mfrom\u001b[39;00m \u001b[39mtinycss2\u001b[39;00m\u001b[39m.\u001b[39;00m\u001b[39mcolor3\u001b[39;00m \u001b[39mimport\u001b[39;00m parse_color\n\u001b[1;32m     10\u001b[0m \u001b[39mfrom\u001b[39;00m \u001b[39m.\u001b[39;00m\u001b[39m.\u001b[39;00m\u001b[39mlogger\u001b[39;00m \u001b[39mimport\u001b[39;00m LOGGER\n\u001b[0;32m---> 11\u001b[0m \u001b[39mfrom\u001b[39;00m \u001b[39m.\u001b[39;00m\u001b[39m.\u001b[39;00m\u001b[39mtext\u001b[39;00m\u001b[39m.\u001b[39;00m\u001b[39mffi\u001b[39;00m \u001b[39mimport\u001b[39;00m ffi, pango, units_to_double\n\u001b[1;32m     12\u001b[0m \u001b[39mfrom\u001b[39;00m \u001b[39m.\u001b[39;00m\u001b[39m.\u001b[39;00m\u001b[39mtext\u001b[39;00m\u001b[39m.\u001b[39;00m\u001b[39mline_break\u001b[39;00m \u001b[39mimport\u001b[39;00m Layout, first_line_metrics\n\u001b[1;32m     13\u001b[0m \u001b[39mfrom\u001b[39;00m \u001b[39m.\u001b[39;00m\u001b[39m.\u001b[39;00m\u001b[39murls\u001b[39;00m \u001b[39mimport\u001b[39;00m get_link_attribute\n",
      "File \u001b[0;32m~/opt/anaconda3/envs/gene/lib/python3.12/site-packages/weasyprint/text/ffi.py:428\u001b[0m\n\u001b[1;32m    425\u001b[0m         \u001b[39mwith\u001b[39;00m suppress((\u001b[39mOSError\u001b[39;00m, \u001b[39mFileNotFoundError\u001b[39;00m)):\n\u001b[1;32m    426\u001b[0m             os\u001b[39m.\u001b[39madd_dll_directory(dll_directory)\n\u001b[0;32m--> 428\u001b[0m gobject \u001b[39m=\u001b[39m _dlopen(\n\u001b[1;32m    429\u001b[0m     ffi, \u001b[39m'\u001b[39;49m\u001b[39mgobject-2.0-0\u001b[39;49m\u001b[39m'\u001b[39;49m, \u001b[39m'\u001b[39;49m\u001b[39mgobject-2.0\u001b[39;49m\u001b[39m'\u001b[39;49m, \u001b[39m'\u001b[39;49m\u001b[39mlibgobject-2.0-0\u001b[39;49m\u001b[39m'\u001b[39;49m,\n\u001b[1;32m    430\u001b[0m     \u001b[39m'\u001b[39;49m\u001b[39mlibgobject-2.0.so.0\u001b[39;49m\u001b[39m'\u001b[39;49m, \u001b[39m'\u001b[39;49m\u001b[39mlibgobject-2.0.dylib\u001b[39;49m\u001b[39m'\u001b[39;49m,  \u001b[39m'\u001b[39;49m\u001b[39mlibgobject-2.0-0.dll\u001b[39;49m\u001b[39m'\u001b[39;49m)\n\u001b[1;32m    431\u001b[0m pango \u001b[39m=\u001b[39m _dlopen(\n\u001b[1;32m    432\u001b[0m     ffi, \u001b[39m'\u001b[39m\u001b[39mpango-1.0-0\u001b[39m\u001b[39m'\u001b[39m, \u001b[39m'\u001b[39m\u001b[39mpango-1.0\u001b[39m\u001b[39m'\u001b[39m, \u001b[39m'\u001b[39m\u001b[39mlibpango-1.0-0\u001b[39m\u001b[39m'\u001b[39m, \u001b[39m'\u001b[39m\u001b[39mlibpango-1.0.so.0\u001b[39m\u001b[39m'\u001b[39m,\n\u001b[1;32m    433\u001b[0m     \u001b[39m'\u001b[39m\u001b[39mlibpango-1.0.dylib\u001b[39m\u001b[39m'\u001b[39m, \u001b[39m'\u001b[39m\u001b[39mlibpango-1.0-0.dll\u001b[39m\u001b[39m'\u001b[39m)\n\u001b[1;32m    434\u001b[0m harfbuzz \u001b[39m=\u001b[39m _dlopen(\n\u001b[1;32m    435\u001b[0m     ffi, \u001b[39m'\u001b[39m\u001b[39mharfbuzz\u001b[39m\u001b[39m'\u001b[39m, \u001b[39m'\u001b[39m\u001b[39mharfbuzz-0.0\u001b[39m\u001b[39m'\u001b[39m, \u001b[39m'\u001b[39m\u001b[39mlibharfbuzz-0\u001b[39m\u001b[39m'\u001b[39m,\n\u001b[1;32m    436\u001b[0m     \u001b[39m'\u001b[39m\u001b[39mlibharfbuzz.so.0\u001b[39m\u001b[39m'\u001b[39m, \u001b[39m'\u001b[39m\u001b[39mlibharfbuzz.so.0\u001b[39m\u001b[39m'\u001b[39m, \u001b[39m'\u001b[39m\u001b[39mlibharfbuzz.0.dylib\u001b[39m\u001b[39m'\u001b[39m,\n\u001b[1;32m    437\u001b[0m     \u001b[39m'\u001b[39m\u001b[39mlibharfbuzz-0.dll\u001b[39m\u001b[39m'\u001b[39m)\n",
      "File \u001b[0;32m~/opt/anaconda3/envs/gene/lib/python3.12/site-packages/weasyprint/text/ffi.py:417\u001b[0m, in \u001b[0;36m_dlopen\u001b[0;34m(ffi, *names)\u001b[0m\n\u001b[1;32m    407\u001b[0m \u001b[39m# Re-raise the exception.\u001b[39;00m\n\u001b[1;32m    408\u001b[0m \u001b[39mprint\u001b[39m(\n\u001b[1;32m    409\u001b[0m     \u001b[39m'\u001b[39m\u001b[39m\\n\u001b[39;00m\u001b[39m-----\u001b[39m\u001b[39m\\n\u001b[39;00m\u001b[39m\\n\u001b[39;00m\u001b[39m'\u001b[39m\n\u001b[1;32m    410\u001b[0m     \u001b[39m'\u001b[39m\u001b[39mWeasyPrint could not import some external libraries. Please \u001b[39m\u001b[39m'\u001b[39m\n\u001b[0;32m   (...)\u001b[0m\n\u001b[1;32m    415\u001b[0m     \u001b[39m'\u001b[39m\u001b[39mfirst_steps.html#troubleshooting\u001b[39m\u001b[39m'\u001b[39m,\n\u001b[1;32m    416\u001b[0m     \u001b[39m'\u001b[39m\u001b[39m\\n\u001b[39;00m\u001b[39m\\n\u001b[39;00m\u001b[39m-----\u001b[39m\u001b[39m\\n\u001b[39;00m\u001b[39m'\u001b[39m)  \u001b[39m# pragma: no cover\u001b[39;00m\n\u001b[0;32m--> 417\u001b[0m \u001b[39mreturn\u001b[39;00m ffi\u001b[39m.\u001b[39;49mdlopen(names[\u001b[39m0\u001b[39;49m])\n",
      "File \u001b[0;32m~/opt/anaconda3/envs/gene/lib/python3.12/site-packages/cffi/api.py:150\u001b[0m, in \u001b[0;36mFFI.dlopen\u001b[0;34m(self, name, flags)\u001b[0m\n\u001b[1;32m    147\u001b[0m     \u001b[39mraise\u001b[39;00m \u001b[39mTypeError\u001b[39;00m(\u001b[39m\"\u001b[39m\u001b[39mdlopen(name): name must be a file name, None, \u001b[39m\u001b[39m\"\u001b[39m\n\u001b[1;32m    148\u001b[0m                     \u001b[39m\"\u001b[39m\u001b[39mor an already-opened \u001b[39m\u001b[39m'\u001b[39m\u001b[39mvoid *\u001b[39m\u001b[39m'\u001b[39m\u001b[39m handle\u001b[39m\u001b[39m\"\u001b[39m)\n\u001b[1;32m    149\u001b[0m \u001b[39mwith\u001b[39;00m \u001b[39mself\u001b[39m\u001b[39m.\u001b[39m_lock:\n\u001b[0;32m--> 150\u001b[0m     lib, function_cache \u001b[39m=\u001b[39m _make_ffi_library(\u001b[39mself\u001b[39;49m, name, flags)\n\u001b[1;32m    151\u001b[0m     \u001b[39mself\u001b[39m\u001b[39m.\u001b[39m_function_caches\u001b[39m.\u001b[39mappend(function_cache)\n\u001b[1;32m    152\u001b[0m     \u001b[39mself\u001b[39m\u001b[39m.\u001b[39m_libraries\u001b[39m.\u001b[39mappend(lib)\n",
      "File \u001b[0;32m~/opt/anaconda3/envs/gene/lib/python3.12/site-packages/cffi/api.py:832\u001b[0m, in \u001b[0;36m_make_ffi_library\u001b[0;34m(ffi, libname, flags)\u001b[0m\n\u001b[1;32m    830\u001b[0m \u001b[39mdef\u001b[39;00m \u001b[39m_make_ffi_library\u001b[39m(ffi, libname, flags):\n\u001b[1;32m    831\u001b[0m     backend \u001b[39m=\u001b[39m ffi\u001b[39m.\u001b[39m_backend\n\u001b[0;32m--> 832\u001b[0m     backendlib \u001b[39m=\u001b[39m _load_backend_lib(backend, libname, flags)\n\u001b[1;32m    833\u001b[0m     \u001b[39m#\u001b[39;00m\n\u001b[1;32m    834\u001b[0m     \u001b[39mdef\u001b[39;00m \u001b[39maccessor_function\u001b[39m(name):\n",
      "File \u001b[0;32m~/opt/anaconda3/envs/gene/lib/python3.12/site-packages/cffi/api.py:827\u001b[0m, in \u001b[0;36m_load_backend_lib\u001b[0;34m(backend, name, flags)\u001b[0m\n\u001b[1;32m    825\u001b[0m     \u001b[39mif\u001b[39;00m first_error \u001b[39mis\u001b[39;00m \u001b[39mnot\u001b[39;00m \u001b[39mNone\u001b[39;00m:\n\u001b[1;32m    826\u001b[0m         msg \u001b[39m=\u001b[39m \u001b[39m\"\u001b[39m\u001b[39m%s\u001b[39;00m\u001b[39m.  Additionally, \u001b[39m\u001b[39m%s\u001b[39;00m\u001b[39m\"\u001b[39m \u001b[39m%\u001b[39m (first_error, msg)\n\u001b[0;32m--> 827\u001b[0m     \u001b[39mraise\u001b[39;00m \u001b[39mOSError\u001b[39;00m(msg)\n\u001b[1;32m    828\u001b[0m \u001b[39mreturn\u001b[39;00m backend\u001b[39m.\u001b[39mload_library(path, flags)\n",
      "\u001b[0;31mOSError\u001b[0m: cannot load library 'gobject-2.0-0': dlopen(gobject-2.0-0, 0x0002): tried: 'gobject-2.0-0' (no such file), '/System/Volumes/Preboot/Cryptexes/OSgobject-2.0-0' (no such file), '/Users/ankitbaliyan/opt/anaconda3/envs/gene/bin/../lib/gobject-2.0-0' (no such file), '/usr/lib/gobject-2.0-0' (no such file, not in dyld cache), 'gobject-2.0-0' (no such file), '/usr/local/lib/gobject-2.0-0' (no such file), '/usr/lib/gobject-2.0-0' (no such file, not in dyld cache).  Additionally, ctypes.util.find_library() did not manage to locate a library called 'gobject-2.0-0'"
     ]
    }
   ],
   "source": [
    "from weasyprint import HTML\n",
    "\n",
    "def convert_html_to_pdf(html_filepath, pdf_filepath):\n",
    "    # Load the HTML file\n",
    "    html = HTML(html_filepath)\n",
    "\n",
    "    # Render the HTML to a PDF and save it\n",
    "    html.write_pdf(pdf_filepath)\n",
    "\n",
    "    print(f\"PDF has been created successfully at {pdf_filepath}\")\n",
    "\n",
    "# Example usage\n",
    "#html_file = 'your_html_file.html'  # Replace with your HTML file path\n",
    "pdf_file = '03_output/output.pdf'  # Replace with your desired PDF file path\n",
    "\n",
    "convert_html_to_pdf(html_file, pdf_file)\n"
   ]
  },
  {
   "cell_type": "code",
   "execution_count": 8,
   "metadata": {},
   "outputs": [
    {
     "name": "stdout",
     "output_type": "stream",
     "text": [
      "Failed to locate wkhtmltopdf binary: wkhtmltopdf reported an error:\n",
      "Exit with code 1 due to network error: ProtocolUnknownError\n",
      "\n"
     ]
    }
   ],
   "source": [
    "import pdfkit\n",
    "\n",
    "def convert_html_to_pdf2(input_html, output_pdf):\n",
    "    # If wkhtmltopdf is not in PATH, specify the path to the binary\n",
    "    # Example for macOS: '/usr/local/bin/wkhtmltopdf'\n",
    "    # Example for Windows: 'C:\\\\Program Files\\\\wkhtmltopdf\\\\bin\\\\wkhtmltopdf.exe'\n",
    "    # Example for Linux: '/usr/bin/wkhtmltopdf'\n",
    "    wkhtml_bin = \"/usr/local/bin/wkhtmltopdf\"\n",
    "    pdfkit_config = pdfkit.configuration(wkhtmltopdf=wkhtml_bin)\n",
    "\n",
    "    try:\n",
    "        # Convert html to pdf using pdfkit and wkhtmltopdf\n",
    "        pdfkit.from_file(input_html, output_pdf, configuration=pdfkit_config)\n",
    "        print(f\"PDF has been generated: {output_pdf}\")\n",
    "    except OSError as e:\n",
    "        print(f\"Failed to locate wkhtmltopdf binary: {e}\")\n",
    "    except Exception as e:\n",
    "        print(f\"An error occurred: {e}\")\n",
    "\n",
    "# Call the function with your file paths\n",
    "convert_html_to_pdf2(\"03_output/allout.html\", \"03_output/output_stage.pdf\")\n"
   ]
  }
 ],
 "metadata": {
  "kernelspec": {
   "display_name": "gene",
   "language": "python",
   "name": "python3"
  },
  "language_info": {
   "codemirror_mode": {
    "name": "ipython",
    "version": 3
   },
   "file_extension": ".py",
   "mimetype": "text/x-python",
   "name": "python",
   "nbconvert_exporter": "python",
   "pygments_lexer": "ipython3",
   "version": "3.12.0"
  }
 },
 "nbformat": 4,
 "nbformat_minor": 2
}
